{
 "cells": [
  {
   "cell_type": "markdown",
   "source": [
    "# Oppgave 2 - Data Prosessering\n",
    "I denne oppgaven skal du svare på noen spørsmål og løse noen oppgaver:\n",
    "a). Hva er json?\n",
    "b). Hva er en dataframe?\n",
    "c). Flate ut json-strukturen i nesten_json.json og lagre den i en dataframe\n",
    "d). \"Eksplodere\"* ut dataframen der hvor det befinner seg listestrukturer og lage nye kolonner av disse listeformaterte feltene.\n",
    "*Eksplodere: Transformere hvert element i en listelignende struktur til en rad, ved da å replikere index-verdiene\n",
    "e). Lagre dataframen som en parquet-fil\n",
    "f). Aggreger opp slik at det er en rad per id, topping og batter skal bare være representert som en sum av antall batters og toppings"
   ],
   "metadata": {
    "collapsed": false,
    "pycharm": {
     "name": "#%% md\n"
    }
   }
  },
  {
   "cell_type": "code",
   "execution_count": 4,
   "outputs": [],
   "source": [
    "import pandas as pd\n",
    "import json"
   ],
   "metadata": {
    "collapsed": false,
    "pycharm": {
     "name": "#%%\n"
    }
   }
  },
  {
   "cell_type": "code",
   "execution_count": 5,
   "outputs": [
    {
     "ename": "IndentationError",
     "evalue": "expected an indented block (2795554493.py, line 4)",
     "output_type": "error",
     "traceback": [
      "\u001B[0;36m  Input \u001B[0;32mIn [5]\u001B[0;36m\u001B[0m\n\u001B[0;31m    \u001B[0m\n\u001B[0m    ^\u001B[0m\n\u001B[0;31mIndentationError\u001B[0m\u001B[0;31m:\u001B[0m expected an indented block\n"
     ]
    }
   ],
   "source": [
    "# Function that reads a json file and puts it into a variable\n",
    "import json\n",
    "def read_json_file(file_name):\n"
   ],
   "metadata": {
    "collapsed": false,
    "pycharm": {
     "name": "#%%\n"
    }
   }
  },
  {
   "cell_type": "code",
   "execution_count": null,
   "outputs": [],
   "source": [
    "unflat_json= read_json_file(\"nested_json.json\")"
   ],
   "metadata": {
    "collapsed": false,
    "pycharm": {
     "name": "#%%\n"
    }
   }
  },
  {
   "cell_type": "code",
   "execution_count": null,
   "outputs": [],
   "source": [
    "#hint mellomsteg med json_normalize\n",
    "def flatten_json(unflat_json):\n",
    "    return semi_flat_json"
   ],
   "metadata": {
    "collapsed": false,
    "pycharm": {
     "name": "#%%\n"
    }
   }
  },
  {
   "cell_type": "code",
   "execution_count": null,
   "outputs": [],
   "source": [
    "#hint bruk explode\n",
    "def remove_topping_batter_columns(flat_json):\n",
    "\n",
    "    return flat_json"
   ],
   "metadata": {
    "collapsed": false,
    "pycharm": {
     "name": "#%%\n"
    }
   }
  }
 ],
 "metadata": {
  "kernelspec": {
   "display_name": "Python 3",
   "language": "python",
   "name": "python3"
  },
  "language_info": {
   "codemirror_mode": {
    "name": "ipython",
    "version": 2
   },
   "file_extension": ".py",
   "mimetype": "text/x-python",
   "name": "python",
   "nbconvert_exporter": "python",
   "pygments_lexer": "ipython2",
   "version": "2.7.6"
  }
 },
 "nbformat": 4,
 "nbformat_minor": 0
}