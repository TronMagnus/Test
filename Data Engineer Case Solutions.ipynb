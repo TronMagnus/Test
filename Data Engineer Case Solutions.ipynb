{
 "cells": [
  {
   "cell_type": "code",
   "execution_count": null,
   "outputs": [],
   "source": [
    "!pip3 install pandas\n",
    "!pip3 install numpy\n",
    "!pip3 install matplotlib\n",
    "!pip3 install seaborn\n",
    "!pip3 install psycopg2\n"
   ],
   "metadata": {
    "collapsed": false,
    "pycharm": {
     "name": "#%%\n"
    }
   }
  },
  {
   "cell_type": "markdown",
   "source": [
    "# Løsningsforslag:"
   ],
   "metadata": {
    "collapsed": false,
    "pycharm": {
     "name": "#%% md\n"
    }
   }
  },
  {
   "cell_type": "markdown",
   "source": [
    "# Oppgave 1\n",
    "I denne oppgaven skal du løse èn pythonoppgave uten å bruke noen hjelpemidler.\n",
    "a). Kan du finne ut henholdsvis hvor mange tall, små og store- bokstaver det finnes i denne tekst-variabelen?\n",
    "Lag en funksjon som tar strengen som input, og returnerer de tre variablene: antall_tall, antall_småbokstaver og antall_storebokstaver"
   ],
   "metadata": {
    "collapsed": false,
    "pycharm": {
     "name": "#%% md\n"
    }
   }
  },
  {
   "cell_type": "markdown",
   "source": [],
   "metadata": {
    "collapsed": false,
    "pycharm": {
     "name": "#%% md\n"
    }
   }
  },
  {
   "cell_type": "code",
   "execution_count": 6,
   "outputs": [],
   "source": [
    "tekstvariabel = \"1u3u5b1bu35ho10ææ+0138a0v25246246mvm2mv60108145u8v08<z0827n0vz00tjjjtjt#$%#%//#%(&))==```??==(&)#)&)#)%&==$%)134136247sh($(%$/&$ghgam6m6m7m09f7u3k1nghg9113h1h13r813h7tuqt3u3e3dc03fjq3uq3hr3togmerain31h3hh3thqh313n931%/)==$!#$!#z35136!&61616b146b1bnp1i4nbp61ib4n6p1ihxp14i61x4ph614ihx6p14xh6p1h9xp146x1hxhxhhpxhihcwpkyrbpu14ougcp194yh1+94hy2084hclqcu4ihtc1084htc14081hcto1j4hct1ou4ht1o48ty0184hco14uht1kj4thk1jp9c1p48tho14uth1k4uygy1o047t1048th1p4thx1p49thx1048th1p4ith1l4ithco14ijx1p49tj104t8j1+48t1+u48570184yxo46jx1pi4jl14jh5k1x4gn14v6k1u4hy6p1u48061048y61xo4u6gxk1h4g6bcm14b6c14oi6uup1480x6ho1048yx646!$&!VJ&O$!&!$v61$&V!$OP6cjk1XOJ1$O&J!#AEGKQEGQÅÆQØRPQRKGwrhjqrhjjh82j8q5v6#%&V/vb\""
   ],
   "metadata": {
    "collapsed": false,
    "pycharm": {
     "name": "#%%\n"
    }
   }
  },
  {
   "cell_type": "code",
   "execution_count": 4,
   "outputs": [],
   "source": [],
   "metadata": {
    "collapsed": false,
    "pycharm": {
     "name": "#%%\n"
    }
   }
  },
  {
   "cell_type": "code",
   "execution_count": 20,
   "outputs": [
    {
     "data": {
      "text/plain": "(272, 297, 30)"
     },
     "execution_count": 20,
     "metadata": {},
     "output_type": "execute_result"
    }
   ],
   "source": [
    "# Count the number of numbers in the string \"tekstvariabel\":\n",
    "\n",
    "\n",
    "def countnumbers_function(tekstvariabel):\n",
    "    counter_digit, counter_lower, counter_upper = 0,0,0\n",
    "    for i in tekstvariabel:\n",
    "        if i.isupper():\n",
    "            counter_upper+=1\n",
    "        elif i.islower():\n",
    "            counter_lower+=1\n",
    "        elif i.isdigit():\n",
    "            counter_digit+=1\n",
    "\n",
    "\n",
    "    return counter_digit, counter_lower, counter_upper\n",
    "\n",
    "countnumbers_function(tekstvariabel)"
   ],
   "metadata": {
    "collapsed": false,
    "pycharm": {
     "name": "#%%\n"
    }
   }
  },
  {
   "cell_type": "markdown",
   "source": [
    "# Oppgave 2 - Data Prosessering\n",
    "I denne oppgaven skal du svare på noen spørsmål og løse noen oppgaver:\n",
    "a). Hva er json?\n",
    "b). Hva er en dataframe?\n",
    "c). Flate ut json-strukturen i nesten_json.json og lagre den i en dataframe\n",
    "d). \"Eksplodere\"* ut dataframen der hvor det befinner seg listestrukturer og lage nye kolonner av disse listeformaterte feltene.\n",
    "*Eksplodere: Transformere hvert element i en listelignende struktur til en rad, ved da å replikere index-verdiene\n",
    "e). Lagre dataframen som en parquet-fil\n",
    "f). Aggreger opp slik at det er en rad per id, topping og batter skal bare være representert som en sum av antall batters og toppings"
   ],
   "metadata": {
    "collapsed": false,
    "pycharm": {
     "name": "#%% md\n"
    }
   }
  },
  {
   "cell_type": "code",
   "execution_count": 23,
   "outputs": [],
   "source": [
    "# Function that reads a json file and puts it into a variable\n",
    "import json\n",
    "def read_json_file(file_name):\n",
    "    with open(file_name) as json_file:\n",
    "        data = json.load(json_file)\n",
    "    return data"
   ],
   "metadata": {
    "collapsed": false,
    "pycharm": {
     "name": "#%%\n"
    }
   }
  },
  {
   "cell_type": "code",
   "execution_count": 24,
   "outputs": [],
   "source": [
    "unflat_json= read_json_file(\"nested_json.json\")"
   ],
   "metadata": {
    "collapsed": false,
    "pycharm": {
     "name": "#%%\n"
    }
   }
  },
  {
   "cell_type": "code",
   "execution_count": 25,
   "outputs": [],
   "source": [
    "#Function that flattens json and returns a dataframe with the flattened json\n",
    "import pandas as pd\n",
    "def flatten_json(unflat_json):\n",
    "    flat_json_df = pd.json_normalize(unflat_json)\n",
    "    return flat_json_df"
   ],
   "metadata": {
    "collapsed": false,
    "pycharm": {
     "name": "#%%\n"
    }
   }
  },
  {
   "cell_type": "code",
   "execution_count": 25,
   "outputs": [],
   "source": [],
   "metadata": {
    "collapsed": false,
    "pycharm": {
     "name": "#%%\n"
    }
   }
  },
  {
   "cell_type": "code",
   "execution_count": 26,
   "outputs": [
    {
     "data": {
      "text/plain": "     id   type           name   ppu topping_id              topping_type  \\\n0  0001  donut           Cake  0.55       5001                      None   \n0  0001  donut           Cake  0.55       5001                      None   \n0  0001  donut           Cake  0.55       5001                      None   \n0  0001  donut           Cake  0.55       5001                      None   \n0  0001  donut           Cake  0.55       5002                    Glazed   \n0  0001  donut           Cake  0.55       5002                    Glazed   \n0  0001  donut           Cake  0.55       5002                    Glazed   \n0  0001  donut           Cake  0.55       5002                    Glazed   \n0  0001  donut           Cake  0.55       5005                     Sugar   \n0  0001  donut           Cake  0.55       5005                     Sugar   \n0  0001  donut           Cake  0.55       5005                     Sugar   \n0  0001  donut           Cake  0.55       5005                     Sugar   \n0  0001  donut           Cake  0.55       5007            Powdered Sugar   \n0  0001  donut           Cake  0.55       5007            Powdered Sugar   \n0  0001  donut           Cake  0.55       5007            Powdered Sugar   \n0  0001  donut           Cake  0.55       5007            Powdered Sugar   \n0  0001  donut           Cake  0.55       5006  Chocolate with Sprinkles   \n0  0001  donut           Cake  0.55       5006  Chocolate with Sprinkles   \n0  0001  donut           Cake  0.55       5006  Chocolate with Sprinkles   \n0  0001  donut           Cake  0.55       5006  Chocolate with Sprinkles   \n0  0001  donut           Cake  0.55       5003                 Chocolate   \n0  0001  donut           Cake  0.55       5003                 Chocolate   \n0  0001  donut           Cake  0.55       5003                 Chocolate   \n0  0001  donut           Cake  0.55       5003                 Chocolate   \n0  0001  donut           Cake  0.55       5004                     Maple   \n0  0001  donut           Cake  0.55       5004                     Maple   \n0  0001  donut           Cake  0.55       5004                     Maple   \n0  0001  donut           Cake  0.55       5004                     Maple   \n1  0002  donut         Raised  0.55       5001                      None   \n1  0002  donut         Raised  0.55       5002                    Glazed   \n1  0002  donut         Raised  0.55       5005                     Sugar   \n1  0002  donut         Raised  0.55       5003                 Chocolate   \n1  0002  donut         Raised  0.55       5004                     Maple   \n2  0003  donut  Old Fashioned  0.55       5001                      None   \n2  0003  donut  Old Fashioned  0.55       5001                      None   \n2  0003  donut  Old Fashioned  0.55       5002                    Glazed   \n2  0003  donut  Old Fashioned  0.55       5002                    Glazed   \n2  0003  donut  Old Fashioned  0.55       5003                 Chocolate   \n2  0003  donut  Old Fashioned  0.55       5003                 Chocolate   \n2  0003  donut  Old Fashioned  0.55       5004                     Maple   \n2  0003  donut  Old Fashioned  0.55       5004                     Maple   \n\n  batter_id   batter_type  \n0      1001       Regular  \n0      1002     Chocolate  \n0      1003     Blueberry  \n0      1004  Devil's Food  \n0      1001       Regular  \n0      1002     Chocolate  \n0      1003     Blueberry  \n0      1004  Devil's Food  \n0      1001       Regular  \n0      1002     Chocolate  \n0      1003     Blueberry  \n0      1004  Devil's Food  \n0      1001       Regular  \n0      1002     Chocolate  \n0      1003     Blueberry  \n0      1004  Devil's Food  \n0      1001       Regular  \n0      1002     Chocolate  \n0      1003     Blueberry  \n0      1004  Devil's Food  \n0      1001       Regular  \n0      1002     Chocolate  \n0      1003     Blueberry  \n0      1004  Devil's Food  \n0      1001       Regular  \n0      1002     Chocolate  \n0      1003     Blueberry  \n0      1004  Devil's Food  \n1      1001       Regular  \n1      1001       Regular  \n1      1001       Regular  \n1      1001       Regular  \n1      1001       Regular  \n2      1001       Regular  \n2      1002     Chocolate  \n2      1001       Regular  \n2      1002     Chocolate  \n2      1001       Regular  \n2      1002     Chocolate  \n2      1001       Regular  \n2      1002     Chocolate  ",
      "text/html": "<div>\n<style scoped>\n    .dataframe tbody tr th:only-of-type {\n        vertical-align: middle;\n    }\n\n    .dataframe tbody tr th {\n        vertical-align: top;\n    }\n\n    .dataframe thead th {\n        text-align: right;\n    }\n</style>\n<table border=\"1\" class=\"dataframe\">\n  <thead>\n    <tr style=\"text-align: right;\">\n      <th></th>\n      <th>id</th>\n      <th>type</th>\n      <th>name</th>\n      <th>ppu</th>\n      <th>topping_id</th>\n      <th>topping_type</th>\n      <th>batter_id</th>\n      <th>batter_type</th>\n    </tr>\n  </thead>\n  <tbody>\n    <tr>\n      <th>0</th>\n      <td>0001</td>\n      <td>donut</td>\n      <td>Cake</td>\n      <td>0.55</td>\n      <td>5001</td>\n      <td>None</td>\n      <td>1001</td>\n      <td>Regular</td>\n    </tr>\n    <tr>\n      <th>0</th>\n      <td>0001</td>\n      <td>donut</td>\n      <td>Cake</td>\n      <td>0.55</td>\n      <td>5001</td>\n      <td>None</td>\n      <td>1002</td>\n      <td>Chocolate</td>\n    </tr>\n    <tr>\n      <th>0</th>\n      <td>0001</td>\n      <td>donut</td>\n      <td>Cake</td>\n      <td>0.55</td>\n      <td>5001</td>\n      <td>None</td>\n      <td>1003</td>\n      <td>Blueberry</td>\n    </tr>\n    <tr>\n      <th>0</th>\n      <td>0001</td>\n      <td>donut</td>\n      <td>Cake</td>\n      <td>0.55</td>\n      <td>5001</td>\n      <td>None</td>\n      <td>1004</td>\n      <td>Devil's Food</td>\n    </tr>\n    <tr>\n      <th>0</th>\n      <td>0001</td>\n      <td>donut</td>\n      <td>Cake</td>\n      <td>0.55</td>\n      <td>5002</td>\n      <td>Glazed</td>\n      <td>1001</td>\n      <td>Regular</td>\n    </tr>\n    <tr>\n      <th>0</th>\n      <td>0001</td>\n      <td>donut</td>\n      <td>Cake</td>\n      <td>0.55</td>\n      <td>5002</td>\n      <td>Glazed</td>\n      <td>1002</td>\n      <td>Chocolate</td>\n    </tr>\n    <tr>\n      <th>0</th>\n      <td>0001</td>\n      <td>donut</td>\n      <td>Cake</td>\n      <td>0.55</td>\n      <td>5002</td>\n      <td>Glazed</td>\n      <td>1003</td>\n      <td>Blueberry</td>\n    </tr>\n    <tr>\n      <th>0</th>\n      <td>0001</td>\n      <td>donut</td>\n      <td>Cake</td>\n      <td>0.55</td>\n      <td>5002</td>\n      <td>Glazed</td>\n      <td>1004</td>\n      <td>Devil's Food</td>\n    </tr>\n    <tr>\n      <th>0</th>\n      <td>0001</td>\n      <td>donut</td>\n      <td>Cake</td>\n      <td>0.55</td>\n      <td>5005</td>\n      <td>Sugar</td>\n      <td>1001</td>\n      <td>Regular</td>\n    </tr>\n    <tr>\n      <th>0</th>\n      <td>0001</td>\n      <td>donut</td>\n      <td>Cake</td>\n      <td>0.55</td>\n      <td>5005</td>\n      <td>Sugar</td>\n      <td>1002</td>\n      <td>Chocolate</td>\n    </tr>\n    <tr>\n      <th>0</th>\n      <td>0001</td>\n      <td>donut</td>\n      <td>Cake</td>\n      <td>0.55</td>\n      <td>5005</td>\n      <td>Sugar</td>\n      <td>1003</td>\n      <td>Blueberry</td>\n    </tr>\n    <tr>\n      <th>0</th>\n      <td>0001</td>\n      <td>donut</td>\n      <td>Cake</td>\n      <td>0.55</td>\n      <td>5005</td>\n      <td>Sugar</td>\n      <td>1004</td>\n      <td>Devil's Food</td>\n    </tr>\n    <tr>\n      <th>0</th>\n      <td>0001</td>\n      <td>donut</td>\n      <td>Cake</td>\n      <td>0.55</td>\n      <td>5007</td>\n      <td>Powdered Sugar</td>\n      <td>1001</td>\n      <td>Regular</td>\n    </tr>\n    <tr>\n      <th>0</th>\n      <td>0001</td>\n      <td>donut</td>\n      <td>Cake</td>\n      <td>0.55</td>\n      <td>5007</td>\n      <td>Powdered Sugar</td>\n      <td>1002</td>\n      <td>Chocolate</td>\n    </tr>\n    <tr>\n      <th>0</th>\n      <td>0001</td>\n      <td>donut</td>\n      <td>Cake</td>\n      <td>0.55</td>\n      <td>5007</td>\n      <td>Powdered Sugar</td>\n      <td>1003</td>\n      <td>Blueberry</td>\n    </tr>\n    <tr>\n      <th>0</th>\n      <td>0001</td>\n      <td>donut</td>\n      <td>Cake</td>\n      <td>0.55</td>\n      <td>5007</td>\n      <td>Powdered Sugar</td>\n      <td>1004</td>\n      <td>Devil's Food</td>\n    </tr>\n    <tr>\n      <th>0</th>\n      <td>0001</td>\n      <td>donut</td>\n      <td>Cake</td>\n      <td>0.55</td>\n      <td>5006</td>\n      <td>Chocolate with Sprinkles</td>\n      <td>1001</td>\n      <td>Regular</td>\n    </tr>\n    <tr>\n      <th>0</th>\n      <td>0001</td>\n      <td>donut</td>\n      <td>Cake</td>\n      <td>0.55</td>\n      <td>5006</td>\n      <td>Chocolate with Sprinkles</td>\n      <td>1002</td>\n      <td>Chocolate</td>\n    </tr>\n    <tr>\n      <th>0</th>\n      <td>0001</td>\n      <td>donut</td>\n      <td>Cake</td>\n      <td>0.55</td>\n      <td>5006</td>\n      <td>Chocolate with Sprinkles</td>\n      <td>1003</td>\n      <td>Blueberry</td>\n    </tr>\n    <tr>\n      <th>0</th>\n      <td>0001</td>\n      <td>donut</td>\n      <td>Cake</td>\n      <td>0.55</td>\n      <td>5006</td>\n      <td>Chocolate with Sprinkles</td>\n      <td>1004</td>\n      <td>Devil's Food</td>\n    </tr>\n    <tr>\n      <th>0</th>\n      <td>0001</td>\n      <td>donut</td>\n      <td>Cake</td>\n      <td>0.55</td>\n      <td>5003</td>\n      <td>Chocolate</td>\n      <td>1001</td>\n      <td>Regular</td>\n    </tr>\n    <tr>\n      <th>0</th>\n      <td>0001</td>\n      <td>donut</td>\n      <td>Cake</td>\n      <td>0.55</td>\n      <td>5003</td>\n      <td>Chocolate</td>\n      <td>1002</td>\n      <td>Chocolate</td>\n    </tr>\n    <tr>\n      <th>0</th>\n      <td>0001</td>\n      <td>donut</td>\n      <td>Cake</td>\n      <td>0.55</td>\n      <td>5003</td>\n      <td>Chocolate</td>\n      <td>1003</td>\n      <td>Blueberry</td>\n    </tr>\n    <tr>\n      <th>0</th>\n      <td>0001</td>\n      <td>donut</td>\n      <td>Cake</td>\n      <td>0.55</td>\n      <td>5003</td>\n      <td>Chocolate</td>\n      <td>1004</td>\n      <td>Devil's Food</td>\n    </tr>\n    <tr>\n      <th>0</th>\n      <td>0001</td>\n      <td>donut</td>\n      <td>Cake</td>\n      <td>0.55</td>\n      <td>5004</td>\n      <td>Maple</td>\n      <td>1001</td>\n      <td>Regular</td>\n    </tr>\n    <tr>\n      <th>0</th>\n      <td>0001</td>\n      <td>donut</td>\n      <td>Cake</td>\n      <td>0.55</td>\n      <td>5004</td>\n      <td>Maple</td>\n      <td>1002</td>\n      <td>Chocolate</td>\n    </tr>\n    <tr>\n      <th>0</th>\n      <td>0001</td>\n      <td>donut</td>\n      <td>Cake</td>\n      <td>0.55</td>\n      <td>5004</td>\n      <td>Maple</td>\n      <td>1003</td>\n      <td>Blueberry</td>\n    </tr>\n    <tr>\n      <th>0</th>\n      <td>0001</td>\n      <td>donut</td>\n      <td>Cake</td>\n      <td>0.55</td>\n      <td>5004</td>\n      <td>Maple</td>\n      <td>1004</td>\n      <td>Devil's Food</td>\n    </tr>\n    <tr>\n      <th>1</th>\n      <td>0002</td>\n      <td>donut</td>\n      <td>Raised</td>\n      <td>0.55</td>\n      <td>5001</td>\n      <td>None</td>\n      <td>1001</td>\n      <td>Regular</td>\n    </tr>\n    <tr>\n      <th>1</th>\n      <td>0002</td>\n      <td>donut</td>\n      <td>Raised</td>\n      <td>0.55</td>\n      <td>5002</td>\n      <td>Glazed</td>\n      <td>1001</td>\n      <td>Regular</td>\n    </tr>\n    <tr>\n      <th>1</th>\n      <td>0002</td>\n      <td>donut</td>\n      <td>Raised</td>\n      <td>0.55</td>\n      <td>5005</td>\n      <td>Sugar</td>\n      <td>1001</td>\n      <td>Regular</td>\n    </tr>\n    <tr>\n      <th>1</th>\n      <td>0002</td>\n      <td>donut</td>\n      <td>Raised</td>\n      <td>0.55</td>\n      <td>5003</td>\n      <td>Chocolate</td>\n      <td>1001</td>\n      <td>Regular</td>\n    </tr>\n    <tr>\n      <th>1</th>\n      <td>0002</td>\n      <td>donut</td>\n      <td>Raised</td>\n      <td>0.55</td>\n      <td>5004</td>\n      <td>Maple</td>\n      <td>1001</td>\n      <td>Regular</td>\n    </tr>\n    <tr>\n      <th>2</th>\n      <td>0003</td>\n      <td>donut</td>\n      <td>Old Fashioned</td>\n      <td>0.55</td>\n      <td>5001</td>\n      <td>None</td>\n      <td>1001</td>\n      <td>Regular</td>\n    </tr>\n    <tr>\n      <th>2</th>\n      <td>0003</td>\n      <td>donut</td>\n      <td>Old Fashioned</td>\n      <td>0.55</td>\n      <td>5001</td>\n      <td>None</td>\n      <td>1002</td>\n      <td>Chocolate</td>\n    </tr>\n    <tr>\n      <th>2</th>\n      <td>0003</td>\n      <td>donut</td>\n      <td>Old Fashioned</td>\n      <td>0.55</td>\n      <td>5002</td>\n      <td>Glazed</td>\n      <td>1001</td>\n      <td>Regular</td>\n    </tr>\n    <tr>\n      <th>2</th>\n      <td>0003</td>\n      <td>donut</td>\n      <td>Old Fashioned</td>\n      <td>0.55</td>\n      <td>5002</td>\n      <td>Glazed</td>\n      <td>1002</td>\n      <td>Chocolate</td>\n    </tr>\n    <tr>\n      <th>2</th>\n      <td>0003</td>\n      <td>donut</td>\n      <td>Old Fashioned</td>\n      <td>0.55</td>\n      <td>5003</td>\n      <td>Chocolate</td>\n      <td>1001</td>\n      <td>Regular</td>\n    </tr>\n    <tr>\n      <th>2</th>\n      <td>0003</td>\n      <td>donut</td>\n      <td>Old Fashioned</td>\n      <td>0.55</td>\n      <td>5003</td>\n      <td>Chocolate</td>\n      <td>1002</td>\n      <td>Chocolate</td>\n    </tr>\n    <tr>\n      <th>2</th>\n      <td>0003</td>\n      <td>donut</td>\n      <td>Old Fashioned</td>\n      <td>0.55</td>\n      <td>5004</td>\n      <td>Maple</td>\n      <td>1001</td>\n      <td>Regular</td>\n    </tr>\n    <tr>\n      <th>2</th>\n      <td>0003</td>\n      <td>donut</td>\n      <td>Old Fashioned</td>\n      <td>0.55</td>\n      <td>5004</td>\n      <td>Maple</td>\n      <td>1002</td>\n      <td>Chocolate</td>\n    </tr>\n  </tbody>\n</table>\n</div>"
     },
     "execution_count": 26,
     "metadata": {},
     "output_type": "execute_result"
    }
   ],
   "source": [
    "#\n",
    "\n",
    "def remove_topping_batter_columns(flat_json):\n",
    "    flat_json = flat_json.explode('topping')\n",
    "    flat_json = flat_json.explode('batters.batter')\n",
    "    flat_json['topping_id'] = flat_json['topping'].apply(lambda x: x['id'])\n",
    "    flat_json['topping_type'] = flat_json['topping'].apply(lambda x: x['type'])\n",
    "    flat_json['batter_id'] = flat_json['batters.batter'].apply(lambda x: x['id'])\n",
    "    flat_json['batter_type'] = flat_json['batters.batter'].apply(lambda x: x['type'])\n",
    "    flat_json = flat_json.drop(columns=['topping', 'batters.batter'])\n",
    "    return flat_json\n",
    "\n",
    "flat_json = remove_topping_batter_columns(flatten_json(unflat_json))\n",
    "flat_json\n",
    "\n",
    "\n"
   ],
   "metadata": {
    "collapsed": false,
    "pycharm": {
     "name": "#%%\n"
    }
   }
  },
  {
   "cell_type": "code",
   "execution_count": 27,
   "outputs": [
    {
     "ename": "ImportError",
     "evalue": "Unable to find a usable engine; tried using: 'pyarrow', 'fastparquet'.\nA suitable version of pyarrow or fastparquet is required for parquet support.\nTrying to import the above resulted in these errors:\n - Missing optional dependency 'pyarrow'. pyarrow is required for parquet support. Use pip or conda to install pyarrow.\n - Missing optional dependency 'fastparquet'. fastparquet is required for parquet support. Use pip or conda to install fastparquet.",
     "output_type": "error",
     "traceback": [
      "\u001B[0;31m---------------------------------------------------------------------------\u001B[0m",
      "\u001B[0;31mImportError\u001B[0m                               Traceback (most recent call last)",
      "Input \u001B[0;32mIn [27]\u001B[0m, in \u001B[0;36m<module>\u001B[0;34m\u001B[0m\n\u001B[1;32m      3\u001B[0m flat_json\u001B[38;5;241m.\u001B[39mto_csv(\u001B[38;5;124m'\u001B[39m\u001B[38;5;124mflat_json.csv\u001B[39m\u001B[38;5;124m'\u001B[39m, index\u001B[38;5;241m=\u001B[39m\u001B[38;5;28;01mFalse\u001B[39;00m)\n\u001B[1;32m      4\u001B[0m \u001B[38;5;66;03m# Or save to parquet type:\u001B[39;00m\n\u001B[0;32m----> 5\u001B[0m \u001B[43mflat_json\u001B[49m\u001B[38;5;241;43m.\u001B[39;49m\u001B[43mto_parquet\u001B[49m\u001B[43m(\u001B[49m\u001B[38;5;124;43m'\u001B[39;49m\u001B[38;5;124;43mflat_json.parquet\u001B[39;49m\u001B[38;5;124;43m'\u001B[39;49m\u001B[43m,\u001B[49m\u001B[43m \u001B[49m\u001B[43mindex\u001B[49m\u001B[38;5;241;43m=\u001B[39;49m\u001B[38;5;28;43;01mFalse\u001B[39;49;00m\u001B[43m)\u001B[49m\n",
      "File \u001B[0;32m/usr/local/lib/python3.9/site-packages/pandas/util/_decorators.py:207\u001B[0m, in \u001B[0;36mdeprecate_kwarg.<locals>._deprecate_kwarg.<locals>.wrapper\u001B[0;34m(*args, **kwargs)\u001B[0m\n\u001B[1;32m    205\u001B[0m     \u001B[38;5;28;01melse\u001B[39;00m:\n\u001B[1;32m    206\u001B[0m         kwargs[new_arg_name] \u001B[38;5;241m=\u001B[39m new_arg_value\n\u001B[0;32m--> 207\u001B[0m \u001B[38;5;28;01mreturn\u001B[39;00m \u001B[43mfunc\u001B[49m\u001B[43m(\u001B[49m\u001B[38;5;241;43m*\u001B[39;49m\u001B[43margs\u001B[49m\u001B[43m,\u001B[49m\u001B[43m \u001B[49m\u001B[38;5;241;43m*\u001B[39;49m\u001B[38;5;241;43m*\u001B[39;49m\u001B[43mkwargs\u001B[49m\u001B[43m)\u001B[49m\n",
      "File \u001B[0;32m/usr/local/lib/python3.9/site-packages/pandas/core/frame.py:2835\u001B[0m, in \u001B[0;36mDataFrame.to_parquet\u001B[0;34m(self, path, engine, compression, index, partition_cols, storage_options, **kwargs)\u001B[0m\n\u001B[1;32m   2749\u001B[0m \u001B[38;5;124;03m\"\"\"\u001B[39;00m\n\u001B[1;32m   2750\u001B[0m \u001B[38;5;124;03mWrite a DataFrame to the binary parquet format.\u001B[39;00m\n\u001B[1;32m   2751\u001B[0m \n\u001B[0;32m   (...)\u001B[0m\n\u001B[1;32m   2831\u001B[0m \u001B[38;5;124;03m>>> content = f.read()\u001B[39;00m\n\u001B[1;32m   2832\u001B[0m \u001B[38;5;124;03m\"\"\"\u001B[39;00m\n\u001B[1;32m   2833\u001B[0m \u001B[38;5;28;01mfrom\u001B[39;00m \u001B[38;5;21;01mpandas\u001B[39;00m\u001B[38;5;21;01m.\u001B[39;00m\u001B[38;5;21;01mio\u001B[39;00m\u001B[38;5;21;01m.\u001B[39;00m\u001B[38;5;21;01mparquet\u001B[39;00m \u001B[38;5;28;01mimport\u001B[39;00m to_parquet\n\u001B[0;32m-> 2835\u001B[0m \u001B[38;5;28;01mreturn\u001B[39;00m \u001B[43mto_parquet\u001B[49m\u001B[43m(\u001B[49m\n\u001B[1;32m   2836\u001B[0m \u001B[43m    \u001B[49m\u001B[38;5;28;43mself\u001B[39;49m\u001B[43m,\u001B[49m\n\u001B[1;32m   2837\u001B[0m \u001B[43m    \u001B[49m\u001B[43mpath\u001B[49m\u001B[43m,\u001B[49m\n\u001B[1;32m   2838\u001B[0m \u001B[43m    \u001B[49m\u001B[43mengine\u001B[49m\u001B[43m,\u001B[49m\n\u001B[1;32m   2839\u001B[0m \u001B[43m    \u001B[49m\u001B[43mcompression\u001B[49m\u001B[38;5;241;43m=\u001B[39;49m\u001B[43mcompression\u001B[49m\u001B[43m,\u001B[49m\n\u001B[1;32m   2840\u001B[0m \u001B[43m    \u001B[49m\u001B[43mindex\u001B[49m\u001B[38;5;241;43m=\u001B[39;49m\u001B[43mindex\u001B[49m\u001B[43m,\u001B[49m\n\u001B[1;32m   2841\u001B[0m \u001B[43m    \u001B[49m\u001B[43mpartition_cols\u001B[49m\u001B[38;5;241;43m=\u001B[39;49m\u001B[43mpartition_cols\u001B[49m\u001B[43m,\u001B[49m\n\u001B[1;32m   2842\u001B[0m \u001B[43m    \u001B[49m\u001B[43mstorage_options\u001B[49m\u001B[38;5;241;43m=\u001B[39;49m\u001B[43mstorage_options\u001B[49m\u001B[43m,\u001B[49m\n\u001B[1;32m   2843\u001B[0m \u001B[43m    \u001B[49m\u001B[38;5;241;43m*\u001B[39;49m\u001B[38;5;241;43m*\u001B[39;49m\u001B[43mkwargs\u001B[49m\u001B[43m,\u001B[49m\n\u001B[1;32m   2844\u001B[0m \u001B[43m\u001B[49m\u001B[43m)\u001B[49m\n",
      "File \u001B[0;32m/usr/local/lib/python3.9/site-packages/pandas/io/parquet.py:416\u001B[0m, in \u001B[0;36mto_parquet\u001B[0;34m(df, path, engine, compression, index, storage_options, partition_cols, **kwargs)\u001B[0m\n\u001B[1;32m    414\u001B[0m \u001B[38;5;28;01mif\u001B[39;00m \u001B[38;5;28misinstance\u001B[39m(partition_cols, \u001B[38;5;28mstr\u001B[39m):\n\u001B[1;32m    415\u001B[0m     partition_cols \u001B[38;5;241m=\u001B[39m [partition_cols]\n\u001B[0;32m--> 416\u001B[0m impl \u001B[38;5;241m=\u001B[39m \u001B[43mget_engine\u001B[49m\u001B[43m(\u001B[49m\u001B[43mengine\u001B[49m\u001B[43m)\u001B[49m\n\u001B[1;32m    418\u001B[0m path_or_buf: FilePath \u001B[38;5;241m|\u001B[39m WriteBuffer[\u001B[38;5;28mbytes\u001B[39m] \u001B[38;5;241m=\u001B[39m io\u001B[38;5;241m.\u001B[39mBytesIO() \u001B[38;5;28;01mif\u001B[39;00m path \u001B[38;5;129;01mis\u001B[39;00m \u001B[38;5;28;01mNone\u001B[39;00m \u001B[38;5;28;01melse\u001B[39;00m path\n\u001B[1;32m    420\u001B[0m impl\u001B[38;5;241m.\u001B[39mwrite(\n\u001B[1;32m    421\u001B[0m     df,\n\u001B[1;32m    422\u001B[0m     path_or_buf,\n\u001B[0;32m   (...)\u001B[0m\n\u001B[1;32m    427\u001B[0m     \u001B[38;5;241m*\u001B[39m\u001B[38;5;241m*\u001B[39mkwargs,\n\u001B[1;32m    428\u001B[0m )\n",
      "File \u001B[0;32m/usr/local/lib/python3.9/site-packages/pandas/io/parquet.py:52\u001B[0m, in \u001B[0;36mget_engine\u001B[0;34m(engine)\u001B[0m\n\u001B[1;32m     49\u001B[0m         \u001B[38;5;28;01mexcept\u001B[39;00m \u001B[38;5;167;01mImportError\u001B[39;00m \u001B[38;5;28;01mas\u001B[39;00m err:\n\u001B[1;32m     50\u001B[0m             error_msgs \u001B[38;5;241m+\u001B[39m\u001B[38;5;241m=\u001B[39m \u001B[38;5;124m\"\u001B[39m\u001B[38;5;130;01m\\n\u001B[39;00m\u001B[38;5;124m - \u001B[39m\u001B[38;5;124m\"\u001B[39m \u001B[38;5;241m+\u001B[39m \u001B[38;5;28mstr\u001B[39m(err)\n\u001B[0;32m---> 52\u001B[0m     \u001B[38;5;28;01mraise\u001B[39;00m \u001B[38;5;167;01mImportError\u001B[39;00m(\n\u001B[1;32m     53\u001B[0m         \u001B[38;5;124m\"\u001B[39m\u001B[38;5;124mUnable to find a usable engine; \u001B[39m\u001B[38;5;124m\"\u001B[39m\n\u001B[1;32m     54\u001B[0m         \u001B[38;5;124m\"\u001B[39m\u001B[38;5;124mtried using: \u001B[39m\u001B[38;5;124m'\u001B[39m\u001B[38;5;124mpyarrow\u001B[39m\u001B[38;5;124m'\u001B[39m\u001B[38;5;124m, \u001B[39m\u001B[38;5;124m'\u001B[39m\u001B[38;5;124mfastparquet\u001B[39m\u001B[38;5;124m'\u001B[39m\u001B[38;5;124m.\u001B[39m\u001B[38;5;130;01m\\n\u001B[39;00m\u001B[38;5;124m\"\u001B[39m\n\u001B[1;32m     55\u001B[0m         \u001B[38;5;124m\"\u001B[39m\u001B[38;5;124mA suitable version of \u001B[39m\u001B[38;5;124m\"\u001B[39m\n\u001B[1;32m     56\u001B[0m         \u001B[38;5;124m\"\u001B[39m\u001B[38;5;124mpyarrow or fastparquet is required for parquet \u001B[39m\u001B[38;5;124m\"\u001B[39m\n\u001B[1;32m     57\u001B[0m         \u001B[38;5;124m\"\u001B[39m\u001B[38;5;124msupport.\u001B[39m\u001B[38;5;130;01m\\n\u001B[39;00m\u001B[38;5;124m\"\u001B[39m\n\u001B[1;32m     58\u001B[0m         \u001B[38;5;124m\"\u001B[39m\u001B[38;5;124mTrying to import the above resulted in these errors:\u001B[39m\u001B[38;5;124m\"\u001B[39m\n\u001B[1;32m     59\u001B[0m         \u001B[38;5;124mf\u001B[39m\u001B[38;5;124m\"\u001B[39m\u001B[38;5;132;01m{\u001B[39;00merror_msgs\u001B[38;5;132;01m}\u001B[39;00m\u001B[38;5;124m\"\u001B[39m\n\u001B[1;32m     60\u001B[0m     )\n\u001B[1;32m     62\u001B[0m \u001B[38;5;28;01mif\u001B[39;00m engine \u001B[38;5;241m==\u001B[39m \u001B[38;5;124m\"\u001B[39m\u001B[38;5;124mpyarrow\u001B[39m\u001B[38;5;124m\"\u001B[39m:\n\u001B[1;32m     63\u001B[0m     \u001B[38;5;28;01mreturn\u001B[39;00m PyArrowImpl()\n",
      "\u001B[0;31mImportError\u001B[0m: Unable to find a usable engine; tried using: 'pyarrow', 'fastparquet'.\nA suitable version of pyarrow or fastparquet is required for parquet support.\nTrying to import the above resulted in these errors:\n - Missing optional dependency 'pyarrow'. pyarrow is required for parquet support. Use pip or conda to install pyarrow.\n - Missing optional dependency 'fastparquet'. fastparquet is required for parquet support. Use pip or conda to install fastparquet."
     ]
    }
   ],
   "source": [
    "# # Sae the new dataframe to a fitting file format\n",
    "\n",
    "flat_json.to_csv('flat_json.csv', index=False)\n",
    "# Or save to parquet type:\n",
    "flat_json.to_parquet('flat_json.parquet', index=False)\n"
   ],
   "metadata": {
    "collapsed": false,
    "pycharm": {
     "name": "#%%\n"
    }
   }
  }
 ],
 "metadata": {
  "kernelspec": {
   "display_name": "Python 3",
   "language": "python",
   "name": "python3"
  },
  "language_info": {
   "codemirror_mode": {
    "name": "ipython",
    "version": 2
   },
   "file_extension": ".py",
   "mimetype": "text/x-python",
   "name": "python",
   "nbconvert_exporter": "python",
   "pygments_lexer": "ipython2",
   "version": "2.7.6"
  }
 },
 "nbformat": 4,
 "nbformat_minor": 0
}