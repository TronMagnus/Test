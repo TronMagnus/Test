{
 "cells": [
  {
   "cell_type": "code",
   "execution_count": 9,
   "outputs": [
    {
     "name": "stdout",
     "output_type": "stream",
     "text": [
      "Requirement already satisfied: pandas in /usr/local/lib/python3.10/site-packages (1.5.0)\r\n",
      "Requirement already satisfied: pytz>=2020.1 in /usr/local/lib/python3.10/site-packages (from pandas) (2022.2.1)\r\n",
      "Requirement already satisfied: numpy>=1.21.0 in /usr/local/lib/python3.10/site-packages (from pandas) (1.23.3)\r\n",
      "Requirement already satisfied: python-dateutil>=2.8.1 in /Users/m98612/Library/Python/3.10/lib/python/site-packages (from pandas) (2.8.2)\r\n",
      "Requirement already satisfied: six>=1.5 in /usr/local/lib/python3.10/site-packages (from python-dateutil>=2.8.1->pandas) (1.16.0)\r\n",
      "Requirement already satisfied: numpy in /usr/local/lib/python3.10/site-packages (1.23.3)\r\n",
      "Requirement already satisfied: matplotlib in /usr/local/lib/python3.10/site-packages (3.6.0)\r\n",
      "Requirement already satisfied: pillow>=6.2.0 in /usr/local/lib/python3.10/site-packages (from matplotlib) (9.2.0)\r\n",
      "Requirement already satisfied: cycler>=0.10 in /usr/local/lib/python3.10/site-packages (from matplotlib) (0.11.0)\r\n",
      "Requirement already satisfied: pyparsing>=2.2.1 in /Users/m98612/Library/Python/3.10/lib/python/site-packages (from matplotlib) (3.0.9)\r\n",
      "Requirement already satisfied: fonttools>=4.22.0 in /usr/local/lib/python3.10/site-packages (from matplotlib) (4.37.3)\r\n",
      "Requirement already satisfied: packaging>=20.0 in /Users/m98612/Library/Python/3.10/lib/python/site-packages (from matplotlib) (21.3)\r\n",
      "Requirement already satisfied: numpy>=1.19 in /usr/local/lib/python3.10/site-packages (from matplotlib) (1.23.3)\r\n",
      "Requirement already satisfied: kiwisolver>=1.0.1 in /usr/local/lib/python3.10/site-packages (from matplotlib) (1.4.4)\r\n",
      "Requirement already satisfied: python-dateutil>=2.7 in /Users/m98612/Library/Python/3.10/lib/python/site-packages (from matplotlib) (2.8.2)\r\n",
      "Requirement already satisfied: contourpy>=1.0.1 in /usr/local/lib/python3.10/site-packages (from matplotlib) (1.0.5)\r\n",
      "Requirement already satisfied: six>=1.5 in /usr/local/lib/python3.10/site-packages (from python-dateutil>=2.7->matplotlib) (1.16.0)\r\n",
      "Requirement already satisfied: seaborn in /usr/local/lib/python3.10/site-packages (0.12.0)\r\n",
      "Requirement already satisfied: matplotlib>=3.1 in /usr/local/lib/python3.10/site-packages (from seaborn) (3.6.0)\r\n",
      "Requirement already satisfied: pandas>=0.25 in /usr/local/lib/python3.10/site-packages (from seaborn) (1.5.0)\r\n",
      "Requirement already satisfied: numpy>=1.17 in /usr/local/lib/python3.10/site-packages (from seaborn) (1.23.3)\r\n",
      "Requirement already satisfied: kiwisolver>=1.0.1 in /usr/local/lib/python3.10/site-packages (from matplotlib>=3.1->seaborn) (1.4.4)\r\n",
      "Requirement already satisfied: pillow>=6.2.0 in /usr/local/lib/python3.10/site-packages (from matplotlib>=3.1->seaborn) (9.2.0)\r\n",
      "Requirement already satisfied: fonttools>=4.22.0 in /usr/local/lib/python3.10/site-packages (from matplotlib>=3.1->seaborn) (4.37.3)\r\n",
      "Requirement already satisfied: cycler>=0.10 in /usr/local/lib/python3.10/site-packages (from matplotlib>=3.1->seaborn) (0.11.0)\r\n",
      "Requirement already satisfied: python-dateutil>=2.7 in /Users/m98612/Library/Python/3.10/lib/python/site-packages (from matplotlib>=3.1->seaborn) (2.8.2)\r\n",
      "Requirement already satisfied: pyparsing>=2.2.1 in /Users/m98612/Library/Python/3.10/lib/python/site-packages (from matplotlib>=3.1->seaborn) (3.0.9)\r\n",
      "Requirement already satisfied: packaging>=20.0 in /Users/m98612/Library/Python/3.10/lib/python/site-packages (from matplotlib>=3.1->seaborn) (21.3)\r\n",
      "Requirement already satisfied: contourpy>=1.0.1 in /usr/local/lib/python3.10/site-packages (from matplotlib>=3.1->seaborn) (1.0.5)\r\n",
      "Requirement already satisfied: pytz>=2020.1 in /usr/local/lib/python3.10/site-packages (from pandas>=0.25->seaborn) (2022.2.1)\r\n",
      "Requirement already satisfied: six>=1.5 in /usr/local/lib/python3.10/site-packages (from python-dateutil>=2.7->matplotlib>=3.1->seaborn) (1.16.0)\r\n",
      "Requirement already satisfied: psycopg2 in /usr/local/lib/python3.10/site-packages (2.9.3)\r\n"
     ]
    }
   ],
   "source": [
    "!pip3 install pandas\n",
    "!pip3 install numpy\n",
    "!pip3 install matplotlib\n",
    "!pip3 install seaborn\n",
    "!pip3 install psycopg2\n"
   ],
   "metadata": {
    "collapsed": false,
    "pycharm": {
     "name": "#%%\n"
    }
   }
  },
  {
   "cell_type": "markdown",
   "source": [
    "# Løsningsforslag:"
   ],
   "metadata": {
    "collapsed": false,
    "pycharm": {
     "name": "#%% md\n"
    }
   }
  },
  {
   "cell_type": "markdown",
   "source": [
    "# Oppgave 1\n",
    "I denne oppgaven skal du løse èn pythonoppgave uten å bruke noen hjelpemidler.\n",
    "a). Kan du finne ut henholdsvis hvor mange tall, små og store- bokstaver det finnes i denne tekst-variabelen?\n",
    "Lag en funksjon som tar strengen som input, og returnerer de tre variablene: antall_tall, antall_småbokstaver og antall_storebokstaver"
   ],
   "metadata": {
    "collapsed": false,
    "pycharm": {
     "name": "#%% md\n"
    }
   }
  },
  {
   "cell_type": "markdown",
   "source": [],
   "metadata": {
    "collapsed": false,
    "pycharm": {
     "name": "#%% md\n"
    }
   }
  },
  {
   "cell_type": "code",
   "execution_count": 10,
   "outputs": [],
   "source": [
    "tekstvariabel = \"u13u5b1bu35ho10ææ+0138a0v25246246mvm2mv60108145u8v08<z0827n0vz00tjjjtjt#$%#%//#%(&))==```??==(&)#)&)#)%&==$%)134136247sh($(%$/&$ghgam6m6m7m09f7u3k1nghg9113h1h13r813h7tuqt3u3e3dc03fjq3uq3hr3togmerain31h3hh3thqh313n931%/)==$!#$!#z35136!&61616b146b1bnp1i4nbp61ib4n6p1ihxp14i61x4ph614ihx6p14xh6p1h9xp146x1hxhxhhpxhihcwpkyrbpu14ougcp194yh1+94hy2084hclqcu4ihtc1084htc14081hcto1j4hct1ou4ht1o48ty0184hco14uht1kj4thk1jp9c1p48tho14uth1k4uygy1o047t1048th1p4thx1p49thx1048th1p4ith1l4ithco14ijx1p49tj104t8j1+48t1+u48570184yxo46jx1pi4jl14jh5k1x4gn14v6k1u4hy6p1u48061048y61xo4u6gxk1h4g6bcm14b6c14oi6uup1480x6ho1048yx646!$&!VJ&O$!&!$v61$&V!$OP6cjk1XOJ1$O&J!#AEGKQEGQÅÆQØRPQRKGwrhjqrhjjh82j8q5v6#%&V/vb\""
   ],
   "metadata": {
    "collapsed": false,
    "pycharm": {
     "name": "#%%\n"
    }
   }
  },
  {
   "cell_type": "code",
   "execution_count": 11,
   "outputs": [
    {
     "data": {
      "text/plain": "(272, 297, 30)"
     },
     "execution_count": 11,
     "metadata": {},
     "output_type": "execute_result"
    }
   ],
   "source": [
    "# Count the number of numbers in the string \"tekstvariabel\":\n",
    "\n",
    "def countnumbers_function(tekstvariabel):\n",
    "    counter_digit=0\n",
    "    counter_lower=0\n",
    "    counter_upper=0\n",
    "    for i in tekstvariabel:\n",
    "        if i.isdigit():\n",
    "            counter_digit+=1\n",
    "        elif i.islower():\n",
    "            counter_lower+=1\n",
    "        elif i.isupper():\n",
    "            counter_upper+=1\n",
    "\n",
    "    return counter_digit, counter_lower, counter_upper\n",
    "\n",
    "countnumbers_function(tekstvariabel)"
   ],
   "metadata": {
    "collapsed": false,
    "pycharm": {
     "name": "#%%\n"
    }
   }
  },
  {
   "cell_type": "markdown",
   "source": [
    "# Oppgave 2 - Data Prosessering\n",
    "I denne oppgaven skal du svare på noen spørsmål og løse noen oppgaver:\n",
    "a). Hva er json?\n",
    "b). Hva er en dataframe?\n",
    "c). Flate ut json-strukturen i nesten_json.json og lagre den i en dataframe\n",
    "d). \"Eksplodere\"* ut dataframen der hvor det befinner seg listestrukturer og lage nye kolonner av disse listeformaterte feltene.\n",
    "*Eksplodere: Transformere hvert element i en listelignende struktur til en rad, ved da å replikere index-verdiene"
   ],
   "metadata": {
    "collapsed": false,
    "pycharm": {
     "name": "#%% md\n"
    }
   }
  },
  {
   "cell_type": "code",
   "execution_count": 12,
   "outputs": [],
   "source": [
    "# Function that reads a json file and puts it into a variable\n",
    "import json\n",
    "def read_json_file(file_name):\n",
    "    with open(file_name) as json_file:\n",
    "        data = json.load(json_file)\n",
    "    return data"
   ],
   "metadata": {
    "collapsed": false,
    "pycharm": {
     "name": "#%%\n"
    }
   }
  },
  {
   "cell_type": "code",
   "execution_count": 14,
   "outputs": [],
   "source": [
    "unflat_json= read_json_file(\"nested_json.json\")"
   ],
   "metadata": {
    "collapsed": false,
    "pycharm": {
     "name": "#%%\n"
    }
   }
  },
  {
   "cell_type": "code",
   "execution_count": 15,
   "outputs": [],
   "source": [
    "#Function that flattens json and returns a dataframe with the flattened json\n",
    "import pandas as pd\n",
    "def flatten_json(unflat_json):\n",
    "    flat_json_df = pd.json_normalize(unflat_json)\n",
    "    return flat_json_df"
   ],
   "metadata": {
    "collapsed": false,
    "pycharm": {
     "name": "#%%\n"
    }
   }
  },
  {
   "cell_type": "code",
   "execution_count": null,
   "outputs": [],
   "source": [],
   "metadata": {
    "collapsed": false,
    "pycharm": {
     "name": "#%%\n"
    }
   }
  },
  {
   "cell_type": "code",
   "execution_count": null,
   "outputs": [],
   "source": [
    "#\n",
    "\n",
    "def remove_topping_batter_columns(flat_json):\n",
    "    flat_json = flat_json.explode('topping')\n",
    "    flat_json = flat_json.explode('batters.batter')\n",
    "    flat_json['topping_id'] = flat_json['topping'].apply(lambda x: x['id'])\n",
    "    flat_json['topping_type'] = flat_json['topping'].apply(lambda x: x['type'])\n",
    "    flat_json['batter_id'] = flat_json['batters.batter'].apply(lambda x: x['id'])\n",
    "    flat_json['batter_type'] = flat_json['batters.batter'].apply(lambda x: x['type'])\n",
    "    flat_json = flat_json.drop(columns=['topping', 'batters.batter'])\n",
    "    return flat_json\n",
    "\n",
    "flat_json = remove_topping_batter_columns(flatten_json(unflat_json))\n",
    "flat_json\n",
    "\n",
    "\n"
   ],
   "metadata": {
    "collapsed": false,
    "pycharm": {
     "name": "#%%\n"
    }
   }
  },
  {
   "cell_type": "code",
   "execution_count": null,
   "outputs": [],
   "source": [
    "# # Sae the new dataframe to a fitting file format\n",
    "\n",
    "flat_json.to_csv('flat_json.csv', index=False)\n",
    "# Or save to parquet type:\n",
    "flat_json.to_parquet('flat_json.parquet', index=False)\n"
   ],
   "metadata": {
    "collapsed": false,
    "pycharm": {
     "name": "#%%\n"
    }
   }
  }
 ],
 "metadata": {
  "kernelspec": {
   "display_name": "Python 3",
   "language": "python",
   "name": "python3"
  },
  "language_info": {
   "codemirror_mode": {
    "name": "ipython",
    "version": 2
   },
   "file_extension": ".py",
   "mimetype": "text/x-python",
   "name": "python",
   "nbconvert_exporter": "python",
   "pygments_lexer": "ipython2",
   "version": "2.7.6"
  }
 },
 "nbformat": 4,
 "nbformat_minor": 0
}